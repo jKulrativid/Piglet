{
 "cells": [
  {
   "cell_type": "code",
   "execution_count": 1,
   "metadata": {},
   "outputs": [],
   "source": [
    "from scapy.all import Ether, IP, UDP\n",
    "from scapy.all import *"
   ]
  },
  {
   "cell_type": "code",
   "execution_count": null,
   "metadata": {},
   "outputs": [],
   "source": [
    "# try to send a packet to the target via an interface dev\n",
    "def send_packet(dev, packet):\n",
    "    sendp(packet, iface=dev)\n",
    "    print(f\"Sent packet via {dev}\")\n",
    "\n",
    "# try to send a packet to the target via an interface dev\n",
    "packet1 = Ether(dst=\"08:00:27:00:00:01\")/IP(src=\"10.147.18.200\", dst=\"192.111.222.123\")/UDP(dport=1234)/Raw(load=b\"Hello World\")\n",
    "packet2 = Ether(dst=\"08:00:27:00:00:01\")/IP(src=\"10.147.18.199\", dst=\"192.111.222.123\")/UDP(dport=1234)/Raw(load=b\"Hello World\")\n",
    "\n",
    "send_packet(\"eth0\", packet1)\n",
    "send_packet(\"eth0\", packet2)"
   ]
  },
  {
   "cell_type": "code",
   "execution_count": 1,
   "metadata": {},
   "outputs": [
    {
     "name": "stdout",
     "output_type": "stream",
     "text": [
      "###[ Ethernet ]### \n",
      "  dst       = 22:22:22:22:22:22\n",
      "  src       = 11:11:11:11:11:11\n",
      "  type      = IPv4\n",
      "###[ IP ]### \n",
      "     version   = 4\n",
      "     ihl       = None\n",
      "     tos       = 0x0\n",
      "     len       = None\n",
      "     id        = 1\n",
      "     flags     = \n",
      "     frag      = 0\n",
      "     ttl       = 64\n",
      "     proto     = udp\n",
      "     chksum    = None\n",
      "     src       = 192.168.1.100\n",
      "     dst       = 192.168.1.200\n",
      "     \\options   \\\n",
      "###[ UDP ]### \n",
      "        sport     = 12345\n",
      "        dport     = 54321\n",
      "        len       = None\n",
      "        chksum    = None\n",
      "###[ Raw ]### \n",
      "           load      = '01234'\n",
      "\n",
      "None\n"
     ]
    }
   ],
   "source": [
    "from scapy.all import *\n",
    "\n",
    "# Define the packet structure\n",
    "# dummy hex value\n",
    "# raw_hex = 0x79725bcfc66e5ffab92f38cb5039309191982788edfabe0308b9bff3d0e9c0015b13ac7e629a263606ae5d96ec712da866be460265898766c19bcac24b8919ba0eedf4af84d3e43c34d6da251d8fadffafe1bbb9374f644b06a20ee9365dc187112620a60fc95be54ffd\n",
    "raw_hex = 16\n",
    "udp_sport = 12345\n",
    "udp_dport = 54321\n",
    "ip_src = \"10.147.18.200\"\n",
    "ip_dst = \"192.168.1.200\"\n",
    "eth_src = \"11:11:11:11:11:11\"\n",
    "eth_dst = \"22:22:22:22:22:22\"\n",
    "\n",
    "# Create the packet\n",
    "packet = Ether(src=eth_src, dst=eth_dst) / \\\n",
    "        IP(src=ip_src, dst=ip_dst) / \\\n",
    "        UDP(sport=udp_sport, dport=udp_dport) / \\\n",
    "        Raw(load=b\"01234\")\n",
    "\n",
    "\n",
    "# Display the packet\n",
    "print(packet.show())\n",
    "\n",
    "# Save the packet to a PCAP file\n",
    "wrpcap(\"case101_in.pcap\", [packet])\n"
   ]
  },
  {
   "cell_type": "code",
   "execution_count": 30,
   "metadata": {},
   "outputs": [
    {
     "name": "stdout",
     "output_type": "stream",
     "text": [
      "1\n",
      "Packet Summary\n",
      "Ether / IP / UDP 192.168.1.100:12345 > 192.168.1.200:54321 / Raw\n",
      "Packet Details\n",
      "###[ Ethernet ]### \n",
      "  dst       = 22:22:22:22:22:22\n",
      "  src       = 11:11:11:11:11:11\n",
      "  type      = IPv4\n",
      "###[ IP ]### \n",
      "     version   = 4\n",
      "     ihl       = 5\n",
      "     tos       = 0x0\n",
      "     len       = 33\n",
      "     id        = 1\n",
      "     flags     = \n",
      "     frag      = 0\n",
      "     ttl       = 64\n",
      "     proto     = udp\n",
      "     chksum    = 0xf64e\n",
      "     src       = 192.168.1.100\n",
      "     dst       = 192.168.1.200\n",
      "     \\options   \\\n",
      "###[ UDP ]### \n",
      "        sport     = 12345\n",
      "        dport     = 54321\n",
      "        len       = 13\n",
      "        chksum    = 0xe087\n",
      "###[ Raw ]### \n",
      "           load      = '01234'\n",
      "\n",
      "None\n",
      "Packet Layers\n",
      "[<class 'scapy.layers.l2.Ether'>, <class 'scapy.layers.inet.IP'>, <class 'scapy.layers.inet.UDP'>, <class 'scapy.packet.Raw'>]\n",
      "Packet Fields\n",
      "{'dst': '22:22:22:22:22:22', 'src': '11:11:11:11:11:11', 'type': 2048}\n",
      "Packet Fields and Values\n",
      "###[ Ethernet ]### \n",
      "  dst       = 22:22:22:22:22:22\n",
      "  src       = 11:11:11:11:11:11\n",
      "  type      = IPv4\n",
      "###[ IP ]### \n",
      "     version   = 4\n",
      "     ihl       = 5\n",
      "     tos       = 0x0\n",
      "     len       = 33\n",
      "     id        = 1\n",
      "     flags     = \n",
      "     frag      = 0\n",
      "     ttl       = 64\n",
      "     proto     = udp\n",
      "     chksum    = 0xf64e\n",
      "     src       = 192.168.1.100\n",
      "     dst       = 192.168.1.200\n",
      "     \\options   \\\n",
      "###[ UDP ]### \n",
      "        sport     = 12345\n",
      "        dport     = 54321\n",
      "        len       = 13\n",
      "        chksum    = 0xe087\n",
      "###[ Raw ]### \n",
      "           load      = '01234'\n",
      "\n",
      "None\n",
      "--------------------------------------------------\n"
     ]
    }
   ],
   "source": [
    "from scapy.all import *\n",
    "\n",
    "# Read the pcap file\n",
    "pkts = rdpcap(\"sim-cases/101/case101_out.pcap\")\n",
    "\n",
    "print(len(pkts))    \n",
    "\n",
    "# Iterate through each packet\n",
    "for pkt in pkts:\n",
    "    # Print the packet summary\n",
    "    print(\"Packet Summary\")\n",
    "    print(pkt.summary())\n",
    "\n",
    "    # Print the packet details\n",
    "    print(\"Packet Details\")\n",
    "    print(pkt.show())\n",
    "\n",
    "    # Print the packet layers\n",
    "    print(\"Packet Layers\")\n",
    "    print(pkt.layers())\n",
    "\n",
    "    # Print the packet fields\n",
    "    print(\"Packet Fields\")\n",
    "    print(pkt.fields)\n",
    "\n",
    "    # Print the packet fields and values\n",
    "    print(\"Packet Fields and Values\")\n",
    "    print(pkt.show2())\n",
    "    \n",
    "    # Add more conditions for other layers as needed\n",
    "\n",
    "    print(\"--------------------------------------------------\")"
   ]
  },
  {
   "cell_type": "code",
   "execution_count": 27,
   "metadata": {},
   "outputs": [
    {
     "name": "stdout",
     "output_type": "stream",
     "text": [
      "b'01234'\n"
     ]
    }
   ],
   "source": [
    "pkt = pkts[0]\n",
    "# show raw content\n",
    "print(pkt[Raw].load)"
   ]
  },
  {
   "cell_type": "code",
   "execution_count": null,
   "metadata": {},
   "outputs": [],
   "source": []
  }
 ],
 "metadata": {
  "kernelspec": {
   "display_name": "env",
   "language": "python",
   "name": "python3"
  },
  "language_info": {
   "codemirror_mode": {
    "name": "ipython",
    "version": 3
   },
   "file_extension": ".py",
   "mimetype": "text/x-python",
   "name": "python",
   "nbconvert_exporter": "python",
   "pygments_lexer": "ipython3",
   "version": "3.10.12"
  }
 },
 "nbformat": 4,
 "nbformat_minor": 2
}
